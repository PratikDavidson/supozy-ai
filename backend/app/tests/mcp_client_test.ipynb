{
 "cells": [
  {
   "cell_type": "code",
   "execution_count": null,
   "id": "1d3c6673",
   "metadata": {},
   "outputs": [],
   "source": [
    "from fastmcp import Client\n",
    "from fastmcp.client.transports import StreamableHttpTransport"
   ]
  },
  {
   "cell_type": "code",
   "execution_count": null,
   "id": "bcb999c2",
   "metadata": {},
   "outputs": [],
   "source": [
    "transport = StreamableHttpTransport(url=\"http://127.0.0.1:9090/mcp\")\n",
    "client = Client(transport)"
   ]
  },
  {
   "cell_type": "code",
   "execution_count": null,
   "id": "31889524",
   "metadata": {},
   "outputs": [],
   "source": [
    "async def list_tools():\n",
    "    async with client:\n",
    "        result = await client.list_tools()\n",
    "        print(result)\n",
    "        return result"
   ]
  },
  {
   "cell_type": "code",
   "execution_count": null,
   "id": "5e8a92b6",
   "metadata": {},
   "outputs": [],
   "source": [
    "mariadb_tools = await list_tools()"
   ]
  },
  {
   "cell_type": "code",
   "execution_count": null,
   "id": "90748419",
   "metadata": {},
   "outputs": [],
   "source": [
    "mariadb_tools"
   ]
  },
  {
   "cell_type": "code",
   "execution_count": null,
   "id": "2be34947",
   "metadata": {},
   "outputs": [],
   "source": []
  },
  {
   "cell_type": "code",
   "execution_count": null,
   "id": "fea39cfa",
   "metadata": {},
   "outputs": [],
   "source": [
    "mariadb_tools[0]"
   ]
  },
  {
   "cell_type": "code",
   "execution_count": null,
   "id": "92894c5c",
   "metadata": {},
   "outputs": [],
   "source": [
    "async def call_tool(name: str):\n",
    "    async with client:\n",
    "        result = await client.call_tool(\"greet\", {\"name\": name})\n",
    "        print(result)"
   ]
  },
  {
   "cell_type": "code",
   "execution_count": null,
   "id": "4df4187a",
   "metadata": {},
   "outputs": [],
   "source": [
    "import os\n",
    "from dotenv import load_dotenv\n",
    "from groq import Groq"
   ]
  },
  {
   "cell_type": "code",
   "execution_count": null,
   "id": "e35e4cda",
   "metadata": {},
   "outputs": [],
   "source": [
    "import json"
   ]
  },
  {
   "cell_type": "code",
   "execution_count": null,
   "id": "328c5ed3",
   "metadata": {},
   "outputs": [],
   "source": [
    "load_dotenv()"
   ]
  },
  {
   "cell_type": "code",
   "execution_count": null,
   "id": "9604c43f",
   "metadata": {},
   "outputs": [],
   "source": [
    "client = Groq(\n",
    "    api_key=os.environ.get(\"GROQ_API_KEY\"),\n",
    ")"
   ]
  },
  {
   "cell_type": "code",
   "execution_count": null,
   "id": "0f5a3144",
   "metadata": {},
   "outputs": [],
   "source": [
    "os.getcwd()[:-9]"
   ]
  },
  {
   "cell_type": "code",
   "execution_count": null,
   "id": "dd495547",
   "metadata": {},
   "outputs": [],
   "source": [
    "with open(os.getcwd()[:-9] + \"mariadb_tools.json\", \"r\", encoding=\"utf-8\") as f:\n",
    "    mariadb_tools = json.load(f)\n",
    "\n",
    "mariadb_tools"
   ]
  },
  {
   "cell_type": "code",
   "execution_count": null,
   "id": "a6c10fc0",
   "metadata": {},
   "outputs": [],
   "source": [
    "mariadb_tools"
   ]
  },
  {
   "cell_type": "code",
   "execution_count": null,
   "id": "b724048d",
   "metadata": {},
   "outputs": [],
   "source": [
    "tools = client.list_tools()\n",
    "tools"
   ]
  },
  {
   "cell_type": "code",
   "execution_count": null,
   "id": "93a698a4",
   "metadata": {},
   "outputs": [],
   "source": [
    "async def get_tools():\n",
    "    tools = await client.list_tools()\n",
    "    return [\n",
    "        {\n",
    "            \"type\": \"function\",\n",
    "            \"function\": {\n",
    "                \"name\": tool.name,\n",
    "                \"description\": tool.description,\n",
    "                \"parameters\": tool.inputSchema,\n",
    "            },\n",
    "        }\n",
    "        for tool in tools\n",
    "    ]"
   ]
  },
  {
   "cell_type": "code",
   "execution_count": null,
   "id": "965fee57",
   "metadata": {},
   "outputs": [],
   "source": [
    "get_tools()"
   ]
  },
  {
   "cell_type": "code",
   "execution_count": null,
   "id": "76b0fade",
   "metadata": {},
   "outputs": [],
   "source": [
    "type(mariadb_tools)"
   ]
  },
  {
   "cell_type": "code",
   "execution_count": null,
   "id": "1b36f490",
   "metadata": {},
   "outputs": [],
   "source": [
    "chat_completion = client.chat.completions.create(\n",
    "    model=\"openai/gpt-oss-20b\",\n",
    "    messages=[\n",
    "        {\"role\": \"system\", \"content\": \"You are a mariadb SQL expert.\"},\n",
    "        {\n",
    "            \"role\": \"user\",\n",
    "            \"content\": \"List databases\",\n",
    "        },\n",
    "    ],\n",
    "    tools=[\n",
    "        {\n",
    "            \"type\": \"function\",\n",
    "            \"function\": {\n",
    "                \"name\": \"list_databases\",\n",
    "                \"description\": \"Lists all accessible databases on the connected MariaDB server.\",\n",
    "                \"parameters\": {\n",
    "                    \"type\": \"object\",\n",
    "                    \"properties\": {},\n",
    "                    \"additionalProperties\": False,\n",
    "                },\n",
    "            },\n",
    "        }\n",
    "    ],\n",
    "    tool_choice={\"type\": \"function\", \"function\": {\"name\": \"list_databases\"}},\n",
    ")\n",
    "\n",
    "print(chat_completion.choices[0].message)"
   ]
  },
  {
   "cell_type": "code",
   "execution_count": null,
   "id": "8477897c",
   "metadata": {},
   "outputs": [],
   "source": [
    "chat_completion"
   ]
  },
  {
   "cell_type": "code",
   "execution_count": null,
   "id": "723f060a",
   "metadata": {},
   "outputs": [],
   "source": [
    "chat_completion"
   ]
  },
  {
   "cell_type": "code",
   "execution_count": null,
   "id": "13880d0c",
   "metadata": {},
   "outputs": [],
   "source": [
    "chat_completion.choices[0].message.tool_calls[0].id"
   ]
  },
  {
   "cell_type": "code",
   "execution_count": null,
   "id": "319671f9",
   "metadata": {},
   "outputs": [],
   "source": [
    "chat_completion.choices[0].message"
   ]
  },
  {
   "cell_type": "code",
   "execution_count": null,
   "id": "5a23956f",
   "metadata": {},
   "outputs": [],
   "source": [
    "chat_completion.choices[0].message.tool_calls"
   ]
  },
  {
   "cell_type": "code",
   "execution_count": null,
   "id": "190f65dd",
   "metadata": {},
   "outputs": [],
   "source": [
    "chat_completion.choices[0].message.tool_calls[0].id"
   ]
  },
  {
   "cell_type": "code",
   "execution_count": null,
   "id": "d0bf8320",
   "metadata": {},
   "outputs": [],
   "source": [
    "if not None:\n",
    "    print(\"hello\")"
   ]
  },
  {
   "cell_type": "code",
   "execution_count": null,
   "id": "646626c9",
   "metadata": {},
   "outputs": [],
   "source": [
    "x = [\"information_schema\", \"mysql\", \"performance_schema\", \"supozy_db\", \"sys\"]"
   ]
  },
  {
   "cell_type": "code",
   "execution_count": null,
   "id": "f9976a9d",
   "metadata": {},
   "outputs": [],
   "source": [
    "print(str(x))"
   ]
  },
  {
   "cell_type": "code",
   "execution_count": null,
   "id": "2abc5dad",
   "metadata": {},
   "outputs": [],
   "source": [
    "from datetime import datetime, timezone"
   ]
  },
  {
   "cell_type": "code",
   "execution_count": null,
   "id": "62542e12",
   "metadata": {},
   "outputs": [],
   "source": [
    "current_time = datetime.now(timezone.utc)\n",
    "current_time.isoformat()"
   ]
  },
  {
   "cell_type": "code",
   "execution_count": null,
   "id": "53710cd2",
   "metadata": {},
   "outputs": [],
   "source": [
    "ts = (\n",
    "    datetime.now(timezone.utc).isoformat(timespec=\"milliseconds\").replace(\"+00:00\", \"Z\")\n",
    ")\n",
    "print(ts)  # 2025-09-18T07:08:11Z"
   ]
  },
  {
   "cell_type": "code",
   "execution_count": null,
   "id": "e93245e6",
   "metadata": {},
   "outputs": [],
   "source": []
  }
 ],
 "metadata": {
  "kernelspec": {
   "display_name": "backend",
   "language": "python",
   "name": "python3"
  },
  "language_info": {
   "codemirror_mode": {
    "name": "ipython",
    "version": 3
   },
   "file_extension": ".py",
   "mimetype": "text/x-python",
   "name": "python",
   "nbconvert_exporter": "python",
   "pygments_lexer": "ipython3",
   "version": "3.10.18"
  }
 },
 "nbformat": 4,
 "nbformat_minor": 5
}
